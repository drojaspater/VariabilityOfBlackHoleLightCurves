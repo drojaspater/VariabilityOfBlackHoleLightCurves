{
 "cells": [
  {
   "cell_type": "code",
   "execution_count": 2,
   "id": "e7a98a8c-a042-4031-a86b-4a7691a852d8",
   "metadata": {},
   "outputs": [],
   "source": [
    "from pyplotdesigner.core.design import Design\n",
    "from pyplotdesigner.core.models import SetValueConstraint\n",
    "from pyplotdesigner.core.design_loader import make_figure_from_design\n",
    "from pyplotdesigner.core.design_loader import make_figure_from_b64\n",
    "import matplotlib.pyplot as plt\n",
    "import h5py\n",
    "import numpy as np\n",
    "import os\n",
    "import imageio.v2 as imageio"
   ]
  },
  {
   "cell_type": "markdown",
   "id": "3a7616f7-c396-40cc-ad34-cf3f0f108870",
   "metadata": {},
   "source": [
    "## Data importation "
   ]
  },
  {
   "cell_type": "code",
   "execution_count": 3,
   "id": "c3f3bd7d-e649-4f08-9031-a6033c67c334",
   "metadata": {},
   "outputs": [
    {
     "name": "stdout",
     "output_type": "stream",
     "text": [
      "el archivo inoisy.h5 contiene los siguientes directorios: \n",
      " ['data', 'params']\n",
      "There are 256 snapshots in this inoisy data set\n"
     ]
    }
   ],
   "source": [
    "#Abres el documento que ya se encuentra en el repositorio\n",
    "inoisyfile = h5py.File(\"inoisy.h5\", 'r')\n",
    "i_fname=\"inoisy.h5\"\n",
    "print(f'el archivo inoisy.h5 contiene los siguientes directorios: \\n', list(inoisyfile.keys()))\n",
    "\n",
    "# Lecuture of inoisy\n",
    "data = np.array(inoisyfile['data/data_env'])\n",
    "data = data[:256]\n",
    "data_lc = np.array(inoisyfile['data/lightcurve_env'])\n",
    "dataclean_lc = np.array(inoisyfile['data/lightcurve_raw']) \n",
    "\n",
    "#Limits of the figure\n",
    "xystart = np.array(inoisyfile['params/x1start'])[0]\n",
    "\n",
    "print(\"There are %s snapshots in this inoisy data set\"%data.shape[0])\n",
    "inoisyfile.close()"
   ]
  },
  {
   "cell_type": "code",
   "execution_count": 5,
   "id": "b469d758-0927-4b35-af38-dc9706a27330",
   "metadata": {},
   "outputs": [
    {
     "name": "stdout",
     "output_type": "stream",
     "text": [
      "Reading file:  Images_a_0.94_i_17_inoisy.h5\n"
     ]
    }
   ],
   "source": [
    "fimages=\"Images_a_0.94_i_17_inoisy.h5\"\n",
    "\n",
    "print(\"Reading file: \",fimages)\n",
    "\n",
    "h5f = h5py.File(fimages,'r')\n",
    "\n",
    "Is0=h5f['bghts0'][:]\n",
    "Is1=h5f['bghts1'][:]\n",
    "Is2=h5f['bghts2'][:]\n",
    "h5f.close()"
   ]
  },
  {
   "cell_type": "code",
   "execution_count": 6,
   "id": "f44bb5e0-dfb0-4380-8151-3898dfc21bdc",
   "metadata": {},
   "outputs": [
    {
     "name": "stdout",
     "output_type": "stream",
     "text": [
      "Reading file:  FastLight_Images_a_0.94_i_17_inoisy.h5\n",
      "el archivo FastLight_Images_a_0.94_i_17_inoisy.h5 contiene los siguientes directorios: \n",
      " ['bghts0', 'bghts1', 'bghts2']\n"
     ]
    }
   ],
   "source": [
    "fimages=\"FastLight_Images_a_0.94_i_17_inoisy.h5\"\n",
    "\n",
    "print(\"Reading file: \",fimages)\n",
    "\n",
    "h5f = h5py.File(fimages,'r')\n",
    "\n",
    "I0=h5f['bghts0'][:]\n",
    "I1=h5f['bghts1'][:]\n",
    "I2=h5f['bghts2'][:]\n",
    "\n",
    "print(f'el archivo {fimages} contiene los siguientes directorios: \\n', list(h5f.keys()))\n",
    "\n",
    "h5f.close() "
   ]
  },
  {
   "cell_type": "markdown",
   "id": "4aee19ff-3f77-45ba-9d9c-a4560c1b5657",
   "metadata": {},
   "source": [
    "## Light curve creation "
   ]
  },
  {
   "cell_type": "code",
   "execution_count": 4,
   "id": "8375e420-cf21-41ec-9120-9f802522bce1",
   "metadata": {},
   "outputs": [],
   "source": [
    "snapshots = 256\n",
    "i_tM,f_tM = 0 , 1000\n",
    "lim0 = 10"
   ]
  },
  {
   "cell_type": "code",
   "execution_count": 8,
   "id": "8d58ad29-ad1f-469c-9da6-203cfffdd233",
   "metadata": {},
   "outputs": [],
   "source": [
    "Light_curve_aart = np.zeros(snapshots)\n",
    "Itotal = Is0 + Is1 + Is2\n",
    "for tsnap in range(snapshots):\n",
    "    Light_curve_aart[tsnap] = np.sum(Is0[tsnap,:,:]) + np.sum(Is1[tsnap,:,:]) + np.sum(Is2[tsnap,:,:])\n",
    "Max_Light_aart_curve = np.max(Light_curve_aart)\n",
    "\n",
    "Light_NormalCurve_aart = Light_curve_aart/(Max_Light_aart_curve +0.2*Max_Light_aart_curve)\n",
    "\n",
    "T_LightCurve_arrt = np.linspace(i_tM,f_tM,snapshots)"
   ]
  },
  {
   "cell_type": "code",
   "execution_count": 9,
   "id": "933f4b16-aae0-4790-accf-8f7e64178a96",
   "metadata": {},
   "outputs": [],
   "source": [
    "Light_curve = np.zeros(256)\n",
    "for tsnap in range(256):\n",
    "    Light_curve[tsnap] = np.sum(data[tsnap])\n",
    "\n",
    "Light_MCurve = Light_curve/np.max(Light_curve)"
   ]
  },
  {
   "cell_type": "code",
   "execution_count": 10,
   "id": "679bf6b8-ef0d-4d25-935b-27e043481335",
   "metadata": {},
   "outputs": [],
   "source": [
    "Light_curve_fast = np.zeros(snapshots)\n",
    "for tsnap in range(snapshots):\n",
    "    Light_curve_fast[tsnap] = np.sum(I0[tsnap,:,:]) + np.sum(I1[tsnap,:,:]) + np.sum(I2[tsnap,:,:])\n",
    "    \n",
    "Max_Light_fast_curve = np.nanmax(Light_curve_fast)\n",
    "\n",
    "Light_NormalCurve_fast = Light_curve_fast/(Max_Light_fast_curve +0.2*Max_Light_fast_curve)\n"
   ]
  },
  {
   "cell_type": "code",
   "execution_count": 11,
   "id": "e9ddf6d3-6534-4b4a-b5f3-8ddd8c1d8ce8",
   "metadata": {},
   "outputs": [],
   "source": [
    "FracDif = (Light_NormalCurve_aart-Light_NormalCurve_fast)/Light_NormalCurve_aart"
   ]
  },
  {
   "cell_type": "markdown",
   "id": "396342e6-4fb0-4a11-8d01-2a125aafa3ee",
   "metadata": {},
   "source": [
    "## Picture generation"
   ]
  },
  {
   "cell_type": "code",
   "execution_count": 12,
   "id": "3bf1c529-e599-41d7-85a7-1e490f6f53a1",
   "metadata": {},
   "outputs": [],
   "source": [
    "design = Design()\n",
    "design.set_viewport(figure_width=11, figure_height=9)\n",
    "\n",
    "# Plots\n",
    "plot1 = design.add_element(id='plot1', type='axis')  # bottom\n",
    "plot2 = design.add_element(id='plot2', type='axis')  # middle\n",
    "plot3 = design.add_element(id='plot3', type='axis')  # top-left\n",
    "plot4 = design.add_element(id='plot4', type='axis')  # top-center\n",
    "plot5 = design.add_element(id='plot5', type='axis')  # top-right\n",
    "\n",
    "# Constants\n",
    "h_spacing = design.add_constant(id='h_spacing', value=0.8)\n",
    "v_spacing = design.add_constant(id='v_spacing', value=0.5)\n",
    "square_ratio = design.add_constant(id='square_ratio', value=10.0)\n",
    "\n",
    "# plot1 (bottom) config\n",
    "design.add_constraint(plot1.x, 0.7)\n",
    "design.add_constraint(plot1.y, 0.5)\n",
    "design.add_constraint(plot1.width, square_ratio.value)\n",
    "design.add_constraint(plot1.height, 1)\n",
    "\n",
    "# plot2 (middle)\n",
    "design.add_constraint(plot2.x, 0.7)\n",
    "design.add_constraint(plot2.width, square_ratio.value)\n",
    "design.add_constraint(plot2.y, plot1.top, add_after=v_spacing.value)\n",
    "design.add_constraint(plot2.height, 3)\n",
    "\n",
    "# Top row: plot3, plot4, plot5\n",
    "# width of each square = (10 - 2*h_spacing) / 3\n",
    "design.add_constraint(plot3.width, (10 - 2 * 0.8) / 3) ##########\n",
    "design.add_constraint(plot3.height, plot3.width)  # square\n",
    "design.add_constraint(plot3.x, 0.7)\n",
    "design.add_constraint(plot3.y, plot2.top, add_after=v_spacing.value)\n",
    "\n",
    "design.add_constraint(plot4.width, plot3.width)\n",
    "design.add_constraint(plot4.height, plot3.height)\n",
    "design.add_constraint(plot4.x, plot3.right, add_after=h_spacing.value)\n",
    "design.add_constraint(plot4.y, plot3.y)\n",
    "\n",
    "design.add_constraint(plot5.width, plot3.width)\n",
    "design.add_constraint(plot5.height, plot3.height)\n",
    "design.add_constraint(plot5.x, plot4.right, add_after=h_spacing.value)\n",
    "design.add_constraint(plot5.y, plot3.y)\n",
    "\n",
    "design.solve()\n",
    "#string = design.get_b64_string()"
   ]
  },
  {
   "cell_type": "code",
   "execution_count": 128,
   "id": "1466605f-dce6-4ba5-9b87-1ad4d9fbc4da",
   "metadata": {},
   "outputs": [
    {
     "name": "stderr",
     "output_type": "stream",
     "text": [
      "C:\\Users\\danyp\\AppData\\Local\\Temp\\ipykernel_33392\\1402314514.py:8: RuntimeWarning: divide by zero encountered in log\n",
      "  ax_top_left.imshow(np.log(data[55,:,:]),cmap=\"plasma\",origin=\"lower\",extent=[-xystart,xystart,-xystart,xystart])\n"
     ]
    },
    {
     "data": {
      "text/plain": [
       "Text(4.4444444444444375, 0.5, 'Fractional Difference')"
      ]
     },
     "execution_count": 128,
     "metadata": {},
     "output_type": "execute_result"
    }
   ],
   "source": [
    "fig, axes = make_figure_from_design(design)\n",
    "\n",
    "x_diff = axes['plot1']\n",
    "ax_lc = axes['plot2']\n",
    "ax_top_left = axes['plot3']\n",
    "ax_top_center = axes['plot4']\n",
    "ax_top_right = axes['plot5']\n",
    "\n",
    "#Top left\n",
    "ax_top_left.imshow(np.log(data[55,:,:]),cmap=\"plasma\",origin=\"lower\",extent=[-xystart,xystart,-xystart,xystart])\n",
    "\n",
    "ax_top_left.set_facecolor('xkcd:black')\n",
    "ax_top_left.set_xlabel(r\"$X$\"+\" \"+\"(M)\")\n",
    "ax_top_left.set_ylabel(r\"$Y$\"+\" \"+\"(M)\")\n",
    "ax_top_left.set_title(r\"Inoisy Movie\")\n",
    "\n",
    "#Top center\n",
    "VMAX=np.max(Is0+Is1+Is2)\n",
    "ax_top_center.imshow(Is0[55,:,:]+Is1[55,:,:]+Is2[55,:,:],vmax=VMAX,origin=\"lower\",cmap=\"plasma\",extent=[-lim0,lim0,-lim0,lim0])\n",
    "\n",
    "ax_top_center.set_facecolor('xkcd:black')\n",
    "ax_top_center.set_xlabel(r\"$X$\"+\" \"+\"(M)\")\n",
    "ax_top_center.set_ylabel(r\"$Y$\"+\" \"+\"(M)\")\n",
    "ax_top_center.set_title(r\"Slow-Light Movie\")\n",
    "\n",
    "#Top right\n",
    "VMax=np.max(I0+I1+I2)\n",
    "ax_top_right.imshow(I0[55,:,:]+I1[55,:,:]+I2[55,:,:],vmax=VMax,origin=\"lower\",cmap=\"plasma\",extent=[-lim0,lim0,-lim0,lim0])\n",
    "\n",
    "ax_top_right.set_facecolor('xkcd:black')\n",
    "ax_top_right.set_xlabel(r\"$X$\"+\" \"+\"(M)\")\n",
    "ax_top_right.set_ylabel(r\"$Y$\"+\" \"+\"(M)\")\n",
    "ax_top_right.set_title(r\"Fast-Light Movie\")\n",
    "\n",
    "#Center \n",
    "ax_lc.plot(T_LightCurve_arrt[:55], Light_NormalCurve_fast[:55],label='Inoisy + aart in fast-light', color='darkblue')\n",
    "ax_lc.plot(T_LightCurve_arrt[:55], Light_NormalCurve_aart[:55],label='Inoisy + aart in slow-light', color='darkgreen')\n",
    "ax_lc.plot(T_LightCurve_arrt[:55], Light_MCurve[:55],linestyle=\"--\", label='Inoisy', color='darkred')\n",
    "ax_lc.set_xlabel(r\"$T$\")\n",
    "ax_lc.set_ylabel(r\"Normalized Light Curve\")\n",
    "ax_lc.legend()\n",
    "\n",
    "# Frac Difference\n",
    "x_diff.plot(T_LightCurve_arrt[:55], FracDif[:55], color='darkred')\n",
    "x_diff.set_xlabel(r\"$T$\")\n",
    "x_diff.set_ylabel(r\"Fractional Difference\")\n"
   ]
  },
  {
   "cell_type": "code",
   "execution_count": 129,
   "id": "fcff5e1c-6aba-4a86-8623-8b84928bb3e0",
   "metadata": {},
   "outputs": [
    {
     "data": {
      "image/png": "[encoded data removed]",
      "text/plain": [
       "<Figure size 1100x900 with 5 Axes>"
      ]
     },
     "execution_count": 129,
     "metadata": {},
     "output_type": "execute_result"
    }
   ],
   "source": [
    "fig"
   ]
  },
  {
   "cell_type": "markdown",
   "id": "6a8c5419-bdea-427f-97f0-cb58c3235ba7",
   "metadata": {},
   "source": [
    "### Movie Production"
   ]
  },
  {
   "cell_type": "code",
   "execution_count": 6,
   "id": "00cb219d-6cdf-485a-844c-c2b2744884a3",
   "metadata": {},
   "outputs": [],
   "source": [
    "fignames=[]\n",
    "for tsnap in np.arange(snapshots):\n",
    "    #fig, axes = make_figure_from_design(design)\n",
    "#\n",
    "    #x_diff = axes['plot1']\n",
    "    #ax_lc = axes['plot2']\n",
    "    #ax_top_left = axes['plot3']\n",
    "    #ax_top_center = axes['plot4']\n",
    "    #ax_top_right = axes['plot5']\n",
    "    #\n",
    "    ##Top left\n",
    "    #ax_top_left.imshow(np.log(data[tsnap,:,:]),cmap=\"plasma\",origin=\"lower\",extent=[-xystart,xystart,-xystart,xystart])\n",
    "    #\n",
    "    #ax_top_left.set_facecolor('xkcd:black')\n",
    "    #ax_top_left.set_xlabel(r\"$X$\"+\" \"+\"(M)\")\n",
    "    #ax_top_left.set_ylabel(r\"$Y$\"+\" \"+\"(M)\")\n",
    "    #ax_top_left.set_title(r\"Inoisy Movie\")\n",
    "    #\n",
    "    ##Top center\n",
    "    #VMAX=np.max(Is0+Is1+Is2)\n",
    "    #ax_top_center.imshow(Is0[tsnap,:,:]+Is1[tsnap,:,:]+Is2[tsnap,:,:],vmax=VMAX,origin=\"lower\",cmap=\"plasma\",extent=[-lim0,lim0,-lim0,lim0])\n",
    "#\n",
    "    #ax_top_center.set_facecolor('xkcd:black')\n",
    "    #ax_top_center.set_xlabel(r\"$X$\"+\" \"+\"(M)\")\n",
    "    #ax_top_center.set_ylabel(r\"$Y$\"+\" \"+\"(M)\")\n",
    "    #ax_top_center.set_title(r\"Slow-Light Movie\")\n",
    "    #\n",
    "    ##Top right\n",
    "    #VMax=np.max(I0+I1+I2)\n",
    "    #ax_top_right.imshow(I0[tsnap,:,:]+I1[tsnap,:,:]+I2[tsnap,:,:],vmax=VMax,origin=\"lower\",cmap=\"plasma\",extent=[-lim0,lim0,-lim0,lim0])\n",
    "    \n",
    "    #ax_top_right.set_facecolor('xkcd:black')\n",
    "    #ax_top_right.set_xlabel(r\"$X$\"+\" \"+\"(M)\")\n",
    "    #ax_top_right.set_ylabel(r\"$Y$\"+\" \"+\"(M)\")\n",
    "    #ax_top_right.set_title(r\"Fast-Light Movie\")\n",
    "    #\n",
    "    ##Center \n",
    "    #ax_lc.plot(T_LightCurve_arrt[:tsnap], Light_NormalCurve_fast[:tsnap],label='Inoisy + aart in fast-light', color='darkblue')\n",
    "    #ax_lc.plot(T_LightCurve_arrt[:tsnap], Light_NormalCurve_aart[:tsnap],label='Inoisy + aart in slow-light', color='darkgreen')\n",
    "    #ax_lc.plot(T_LightCurve_arrt[:tsnap], Light_MCurve[:tsnap],linestyle=\"--\", label='Inoisy', color='darkred')\n",
    "    #ax_lc.set_xlabel(r\"$T$\")\n",
    "    #ax_lc.set_ylabel(r\"Normalized Light Curve\")\n",
    "    #ax_lc.legend()\n",
    "    #\n",
    "    ## Frac Difference\n",
    "    #x_diff.plot(T_LightCurve_arrt[:tsnap], FracDif[:tsnap], color='darkred')\n",
    "    #x_diff.set_xlabel(r\"$T$\")\n",
    "    #x_diff.set_ylabel(r\"Fractional Difference\")\n",
    "\n",
    "    fignames.append('./Results/Fig%s.png'%tsnap)\n",
    "    #fig.savefig('./Results/Fig%s.png'%tsnap,dpi=400,bbox_inches='tight')\n",
    "    #plt.close(fig)\n",
    "\n",
    "with imageio.get_writer('./Results/BHMovie_information.gif', mode='I') as writer:\n",
    "    for filename in fignames:\n",
    "        image = imageio.imread(filename)\n",
    "        writer.append_data(image)\n",
    "\n",
    "# We delete the created images and just keep the GIF\n",
    "for filename in set(fignames):\n",
    "    os.remove(filename)"
   ]
  },
  {
   "cell_type": "code",
   "execution_count": 3,
   "id": "87426d8f-9b7a-41a5-a159-bbe114cfdb73",
   "metadata": {},
   "outputs": [
    {
     "data": {
      "text/plain": [
       "int"
      ]
     },
     "execution_count": 3,
     "metadata": {},
     "output_type": "execute_result"
    }
   ],
   "source": [
    "type(6)"
   ]
  },
  {
   "cell_type": "code",
   "execution_count": null,
   "id": "aa25b68b-3811-4273-8c76-f7f5edfafdbe",
   "metadata": {},
   "outputs": [],
   "source": []
  }
 ],
 "metadata": {
  "kernelspec": {
   "display_name": "Python (GifEntorno)",
   "language": "python",
   "name": "gifentorno"
  },
  "language_info": {
   "codemirror_mode": {
    "name": "ipython",
    "version": 3
   },
   "file_extension": ".py",
   "mimetype": "text/x-python",
   "name": "python",
   "nbconvert_exporter": "python",
   "pygments_lexer": "ipython3",
   "version": "3.12.3"
  }
 },
 "nbformat": 4,
 "nbformat_minor": 5
}
